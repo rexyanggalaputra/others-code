{
 "cells": [
  {
   "cell_type": "code",
   "execution_count": 32,
   "metadata": {},
   "outputs": [],
   "source": [
    "def cekPalindrom() :\n",
    "    kata = input(\"Silahkan masukkan kata : \")\n",
    "    \n",
    "    import re\n",
    "    \n",
    "    \"\"\"\n",
    "    ------------------------------------------------------\n",
    "    test\n",
    "    Fungsi ini berguna untuk menentukan/mengecek apakah\n",
    "    sebuah kata/kalimat merupakan kata/kalimat palindrom  \n",
    "    ------------------------------------------------------\n",
    "    \n",
    "    Pertama kami buat inputan kata menjadi huruf kecil\n",
    "    dengan fugsi lower(), menghilangkan spasi di awal dan akhir \n",
    "    menggunakan strip(), dan munghapus triple atau lebih huruf berurutan (ex : looooooook, menjadi look)\n",
    "    \n",
    "    \"\"\"\n",
    "    pattern = re.compile(r\"(.)\\1{1,}\", re.DOTALL)\n",
    "    kata = kata.lower().strip()\n",
    "    kata = pattern.sub(r\"\\1\\1\", kata)\n",
    "    temp = \"\"\n",
    "\n",
    "    \"\"\"\n",
    "    Selanjutnya kami looping kata dari huruf terakhir\n",
    "    \"\"\"\n",
    "    \n",
    "    for i in range(len(kata)-1, -1, -1):\n",
    "        temp+=kata[i]\n",
    "\n",
    "    \"\"\"\n",
    "    Langkah pertama yang kami lakukan adalah mengecek apakah kata yang diinput berupa string kosong\n",
    "    atau tidak. Jika kosong maka diminta untuk memasukkan kata/kalimat, jika tidak maka sistem berlanjut\n",
    "    \n",
    "    \"\"\"\n",
    "    if (kata == '') : # Jika kata inputan kosong\n",
    "        print(\"\\nString kosong, harap masukkan kata atau kalimat\")\n",
    "            \n",
    "    else :\n",
    "        \"\"\"\n",
    "        Langkah berikutnya yang kami lakukan adalah mengecek apakah kata yang diinput lebih\n",
    "        dari satu huruf ata tidak. Karena jika satu huruf saja pasti akan terdeteksi palindrom.\n",
    "        Jika kata inputan lebih dari satu huruf, maka sistem berlanjut, jika hanya satu huruf,\n",
    "        maka sistem berhenti dan mengeluarkan exception error\n",
    "        \"\"\"\n",
    "        \n",
    "        try :\n",
    "            if len([i for i in kata]) > 1 : # Jika kata inputan lebih dari satu huruf\n",
    "        \n",
    "               \"\"\"\n",
    "               Selanjutnya dilakukan pengecekan kondisi variabel kata dan temp.\n",
    "               Apabila kata==temp dan kata!='' dalam artian inputan bukan string kosong \n",
    "                maka kata/kalimat tersebut adalah kata/kalimat palindrom,\n",
    "               sedangkan jika kata!=temp, maka kata/kalmat tersebut bukanlah kata/kalimat palindrom\n",
    "        \n",
    "               \"\"\"\n",
    "               if (kata == temp) & (kata != ''): # Pengecekan kondisi dengan membandingkan kedua variabel (jika kata==temp)\n",
    "                    kata_split = kata.split()\n",
    "            \n",
    "                    \"\"\"\n",
    "                    if else conditional yang ketiga ini digunakan sekedar untuk pengecekan\n",
    "                    apakah kata yang diinput merukapan sebuah kata atau kalimat(terdiri dari beberapa kata)\n",
    "            \n",
    "                    \"\"\"\n",
    "                    if len(kata_split) > 1 :\n",
    "                        print(\"\\nKalimat '{}' merupakan kalimat Palindrom\".format(kata))\n",
    "                    else :\n",
    "                        print(\"\\nKata '{}' merupakan kata Palindrom\".format(kata))\n",
    "            \n",
    "               elif (kata != temp) : # Jika kata != temp, maka kata/kalimat yang dimasukkan bukanlah kata/kalimat palindrom\n",
    "                    kata_split = kata.split()\n",
    "         \n",
    "                    \"\"\"\n",
    "                    if else conditional yang ini juga sama, digunakan sekedar untuk pengecekan\n",
    "                    apakah kata yang diinput merukapan sebuah kata atau kalimat(terdiri dari beberapa kata)\n",
    "        \n",
    "                    \"\"\"\n",
    "                    if len(kata_split) > 1 :\n",
    "                        print(\"\\nKalimat '{}' bukan merupakan kalimat Palindrom\".format(kata))\n",
    "                    else :\n",
    "                        print(\"\\nKata '{}' bukan merupakan kata Palindrom\".format(kata))\n",
    "            else : # Jika kata inputan hanya satu huruf\n",
    "                print(\"\\nAnda memasukkan 1 huruf saja yaitu huruf '{}', mungkin Anda bisa memasukkan sebuah kata atau kalimat\".format(kata))\n",
    "        \n",
    "        except : \n",
    "            print('\\nerror')\n",
    "            "
   ]
  },
  {
   "cell_type": "code",
   "execution_count": 33,
   "metadata": {},
   "outputs": [
    {
     "name": "stdout",
     "output_type": "stream",
     "text": [
      "Silahkan masukkan kata : labu\n",
      "\n",
      "Kata 'labu' bukan merupakan kata Palindrom\n"
     ]
    }
   ],
   "source": [
    "cekPalindrom()"
   ]
  }
 ],
 "metadata": {
  "kernelspec": {
   "display_name": "base",
   "language": "python",
   "name": "python3"
  },
  "language_info": {
   "codemirror_mode": {
    "name": "ipython",
    "version": 3
   },
   "file_extension": ".py",
   "mimetype": "text/x-python",
   "name": "python",
   "nbconvert_exporter": "python",
   "pygments_lexer": "ipython3",
   "version": "3.8.5"
  },
  "vscode": {
   "interpreter": {
    "hash": "a90aeebcf29d64a654773811cc170cb25061cb2498f10ac689db374c7bf325de"
   }
  }
 },
 "nbformat": 4,
 "nbformat_minor": 4
}
